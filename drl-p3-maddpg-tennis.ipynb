{
 "cells": [
  {
   "cell_type": "markdown",
   "metadata": {},
   "source": [
    "# Udacity Deep Reinforcement Learning ND\n",
    "\n",
    "## Project 3: Collaboration and Competition\n",
    "\n",
    "### Unity environment: Tennis\n",
    "\n",
    "This notebook implements a multi-agent DDPG (maddpg) model to solve the Tennis Environment. I solved the environment (average reward greater than 0.5) in less than 8000 training steps."
   ]
  },
  {
   "cell_type": "code",
   "execution_count": 1,
   "metadata": {},
   "outputs": [],
   "source": [
    "from unityagents import UnityEnvironment\n",
    "import torch\n",
    "import numpy as np\n",
    "import os\n",
    "import time\n",
    "import datetime\n",
    "import utils\n",
    "from collections import deque, namedtuple\n",
    "import pandas as pd\n",
    "import matplotlib.pyplot as plt"
   ]
  },
  {
   "cell_type": "markdown",
   "metadata": {},
   "source": [
    "### Network models for Actor and Critic"
   ]
  },
  {
   "cell_type": "code",
   "execution_count": 2,
   "metadata": {},
   "outputs": [],
   "source": [
    "import torch.nn as nn\n",
    "import torch.nn.functional as F\n",
    "\n",
    "def hidden_init(layer):\n",
    "    fan_in = layer.weight.data.size()[0]\n",
    "    lim = 1. / np.sqrt(fan_in)\n",
    "    return (-lim, lim)\n",
    "\n",
    "class Actor(nn.Module):\n",
    "\n",
    "    def __init__(self, state_size, action_size, seed, fc1_units=300, fc2_units=300):\n",
    "\n",
    "        super(Actor, self).__init__()\n",
    "        self.seed = torch.manual_seed(seed)\n",
    "        self.fc1 = nn.Linear(state_size, fc1_units)\n",
    "        self.fc2 = nn.Linear(fc1_units, fc2_units)\n",
    "        self.fc3 = nn.Linear(fc2_units, action_size)\n",
    "        self.reset_parameters()\n",
    "\n",
    "    def reset_parameters(self):\n",
    "        self.fc1.weight.data.uniform_(*hidden_init(self.fc1))\n",
    "        self.fc2.weight.data.uniform_(*hidden_init(self.fc2))\n",
    "        self.fc3.weight.data.uniform_(-3e-3, 3e-3)\n",
    "\n",
    "    def forward(self, state):\n",
    "        x = F.relu(self.fc1(state))\n",
    "        x = F.relu(self.fc2(x))\n",
    "        return F.tanh(self.fc3(x))\n",
    "\n",
    "class Critic(nn.Module):\n",
    "\n",
    "    def __init__(self, state_size, action_size, nbr_of_agts, seed, fcs1_units=300, fc2_units=300):\n",
    "\n",
    "        super(Critic, self).__init__()\n",
    "        self.seed = torch.manual_seed(seed)\n",
    "        self.fcs1 = nn.Linear((state_size+action_size) * nbr_of_agts, fcs1_units)\n",
    "        self.fc2 = nn.Linear(fcs1_units, fc2_units)\n",
    "        self.fc3 = nn.Linear(fc2_units, 1)\n",
    "        self.reset_parameters()\n",
    "\n",
    "    def reset_parameters(self):\n",
    "        self.fcs1.weight.data.uniform_(*hidden_init(self.fcs1))\n",
    "        self.fc2.weight.data.uniform_(*hidden_init(self.fc2))\n",
    "        self.fc3.weight.data.uniform_(-3e-3, 3e-3)\n",
    "    \n",
    "    def forward(self, state, action):\n",
    "        \"\"\"Performs forward\"\"\"\n",
    "        xs = torch.cat((state, action), dim=1)\n",
    "        x = F.relu(self.fcs1(xs))\n",
    "        x = F.relu(self.fc2(x))\n",
    "        return self.fc3(x)"
   ]
  },
  {
   "cell_type": "markdown",
   "metadata": {},
   "source": [
    "### Replay Buffer"
   ]
  },
  {
   "cell_type": "code",
   "execution_count": 3,
   "metadata": {},
   "outputs": [],
   "source": [
    "from collections import deque, namedtuple\n",
    "\n",
    "class ReplayBuffer:\n",
    "    \"\"\"Fixed-size buffer to store experience tuples.\"\"\"\n",
    "\n",
    "    def __init__(self, buffer_size, batch_size, seed, number_of_agents):\n",
    "\n",
    "        self.memory = deque(maxlen=buffer_size)  # internal memory (deque)\n",
    "        self.batch_size = batch_size\n",
    "        self.experience = namedtuple(\"Experience\", field_names=[\"states\", \"actions\", \"rewards\", \"next_states\", \"dones\"])\n",
    "        self.number_of_agents = number_of_agents\n",
    "        \n",
    "    def add(self, state, action, reward, next_state, done):\n",
    "        \"\"\"Add a new experience to memory.\"\"\"\n",
    "        e = self.experience(state, action, reward, next_state, done)\n",
    "        self.memory.append(e)\n",
    "    \n",
    "    def sample(self):\n",
    "        \"\"\"Randomly sample a batch of experiences from memory.\"\"\"\n",
    "        \n",
    "        experiences = random.sample(self.memory, k=self.batch_size)\n",
    "        \n",
    "        list_of_states = list()\n",
    "        list_of_actions = list()\n",
    "        list_of_next_states = list()\n",
    "\n",
    "        \n",
    "        for i in range(self.number_of_agents):\n",
    "            index = np.array([i])\n",
    "            states = torch.from_numpy(np.vstack([e.states[index] for e in experiences if e is not None])).float().to(device)\n",
    "            actions = torch.from_numpy(np.vstack([e.actions[index] for e in experiences if e is not None])).float().to(device)\n",
    "            next_states = torch.from_numpy(np.vstack([e.next_states[index] for e in experiences if e is not None])).float().to(device)\n",
    "            \n",
    "            list_of_states.append(states)\n",
    "            list_of_actions.append(actions)\n",
    "            list_of_next_states.append(next_states)\n",
    "            \n",
    "        rewards = torch.from_numpy(np.vstack([e.rewards for e in experiences if e is not None])).float().to(device)        \n",
    "        dones = torch.from_numpy(np.vstack([e.dones for e in experiences if e is not None]).astype(np.uint8)).float().to(device)\n",
    "\n",
    "        return (list_of_states, list_of_actions, rewards, list_of_next_states, dones)\n",
    "\n",
    "    def __len__(self):\n",
    "        \"\"\"Return the current size of internal memory.\"\"\"\n",
    "        return len(self.memory)"
   ]
  },
  {
   "cell_type": "markdown",
   "metadata": {},
   "source": [
    "### Action space proportional noise"
   ]
  },
  {
   "cell_type": "code",
   "execution_count": 4,
   "metadata": {},
   "outputs": [],
   "source": [
    "class OUNoise:\n",
    "    \"\"\"Ornstein-Uhlenbeck process.\"\"\"\n",
    "\n",
    "    def __init__(self, size, seed, mu=0., theta=0.15, sigma=0.2):\n",
    "        \"\"\"Initialize parameters and noise process.\"\"\"\n",
    "        self.size = size\n",
    "        self.mu = mu * np.ones(size)\n",
    "        self.theta = theta\n",
    "        self.sigma = sigma\n",
    "        self.seed = random.seed(seed)\n",
    "        self.reset()\n",
    "\n",
    "    def reset(self):\n",
    "        \"\"\"Reset the internal state (= noise) to mean (mu).\"\"\"\n",
    "        self.state = copy.copy(self.mu)\n",
    "\n",
    "    def sample(self):\n",
    "        \"\"\"Update internal state and return it as a noise sample.\"\"\"\n",
    "        x = self.state\n",
    "        dx = self.theta * (self.mu - x) + self.sigma * np.random.randn(self.size)\n",
    "        self.state = x + dx\n",
    "        return self.state\n"
   ]
  },
  {
   "cell_type": "markdown",
   "metadata": {},
   "source": [
    "### DDPG Agent"
   ]
  },
  {
   "cell_type": "code",
   "execution_count": 17,
   "metadata": {},
   "outputs": [],
   "source": [
    "import torch.optim as optim\n",
    "import random\n",
    "import copy\n",
    "from collections import namedtuple, deque\n",
    "import time\n",
    "\n",
    "class DDPGAgent():\n",
    "    \"\"\"Interacts with and learns from the environment.\"\"\"\n",
    "    \n",
    "    def __init__(self, agent_id, \n",
    "                 state_size, \n",
    "                 action_size, \n",
    "                 rand_seed, \n",
    "                 meta_agent,\n",
    "                 BUFFER_SIZE = int(1e5),\n",
    "                 BATCH_SIZE = 250, \n",
    "                 GAMMA = 0.99,\n",
    "                 TAU = 1e-3,\n",
    "                 LR_ACTOR = 1e-4,\n",
    "                 LR_CRITIC = 1e-3,\n",
    "                 UPDATE_EVERY = 2, \n",
    "                 WEIGHT_DECAY = 0):\n",
    "        \"\"\"\n",
    "        Initialize an Agent object.\n",
    "        \n",
    "        Params\n",
    "        ======\n",
    "            state_size (int) : dimension of each state\n",
    "            action_size (int): dimension of each action\n",
    "            rand_seed (int): random seed\n",
    "            BUFFER_SIZE (int): replay buffer size\n",
    "            BATCH_SIZE (int): minibatch size\n",
    "            GAMMA (float): discount factor\n",
    "            TAU (float): for soft update of target parameters\n",
    "            LR_ACTOR (float): learning rate for critic \n",
    "            LR_CRITIC (float): learning rate for critic\n",
    "            WEIGHT_DECAY (float): L2 weight decay\n",
    "        \"\"\"\n",
    "        self.agent_id = agent_id\n",
    "        self.state_size = state_size\n",
    "        self.action_size = action_size\n",
    "        self.batch_size = BATCH_SIZE\n",
    "        self.gamma = GAMMA\n",
    "        self.tau = TAU\n",
    "        self.update_every = UPDATE_EVERY\n",
    "        \n",
    "        # Actor Network (w/ Target Network)\n",
    "        self.actor_local = Actor(state_size, action_size, rand_seed).to(device)\n",
    "        self.actor_target = Actor(state_size, action_size, rand_seed).to(device)\n",
    "        self.actor_optimizer = optim.Adam(self.actor_local.parameters(), \\\n",
    "                                            lr=LR_ACTOR)\n",
    "\n",
    "        # Critic Network (w/ Target Network)\n",
    "        self.critic_local = Critic(state_size, action_size, meta_agent.number_of_agents, rand_seed).to(device)\n",
    "        self.critic_target = Critic(state_size, action_size, meta_agent.number_of_agents, rand_seed).to(device)\n",
    "        self.critic_optimizer = optim.Adam(self.critic_local.parameters(),\\\n",
    "                                            lr=LR_CRITIC, weight_decay=WEIGHT_DECAY)\n",
    "\n",
    "        # Noise process\n",
    "        self.noise = OUNoise(action_size, rand_seed)\n",
    "\n",
    "        # Time step\n",
    "        self.timestep = 0\n",
    "        \n",
    "        # Replay memory\n",
    "        self.memory = meta_agent.memory\n",
    "        \n",
    "    def step(self):\n",
    "        \"\"\"Save experience in replay memory, and use random sample from buffer to learn.\"\"\"\n",
    "        # Save experience / reward\n",
    "        #for s, a, r, ns, d in zip(state, action, reward, next_state, done):\n",
    "        #    self.memory.add(s, a, r, ns, d)\n",
    "            \n",
    "        self.timestep = (self.timestep + 1) % self.update_every\n",
    "        \n",
    "        if self.timestep == 0:\n",
    "            # if enough samples are available in memory\n",
    "        \n",
    "            if len(self.memory) > self.batch_size:\n",
    "                experiences = self.memory.sample()\n",
    "                self.learn(experiences, self.gamma)\n",
    "                \n",
    "\n",
    "\n",
    "    def act(self, state, add_noise=True):\n",
    "        \"\"\"Returns actions for given state as per current policy.\"\"\"\n",
    "        state = torch.from_numpy(state).float().to(device)\n",
    "        self.actor_local.eval()\n",
    "        with torch.no_grad():\n",
    "            action = self.actor_local(state).cpu().data.numpy()\n",
    "        self.actor_local.train()\n",
    "        if add_noise:\n",
    "            action += self.noise.sample()\n",
    "        return np.clip(action, -1, 1)\n",
    "\n",
    "    def reset(self):\n",
    "        self.noise.reset()\n",
    "\n",
    "    def learn(self, experiences, gamma):\n",
    "        \"\"\"Update policy and value parameters using given batch of experience tuples.\n",
    "        Q_targets = r + γ * critic_target(next_state, actor_target(next_state))\n",
    "        where:\n",
    "            actor_target(state) -> action\n",
    "            critic_target(state, action) -> Q-value\n",
    "        Params\n",
    "        ======\n",
    "            experiences (Tuple[torch.Tensor]): tuple of (s, a, r, s', done) tuples \n",
    "            gamma (float): discount factor\n",
    "        \"\"\"\n",
    "        (states_list, actions_list, rewards, next_states_list, dones) = experiences\n",
    "        \n",
    "        list_all_next_actions = []\n",
    "        for states in states_list:\n",
    "            list_all_next_actions.append(self.actor_target(states))\n",
    "        \n",
    "        # Convert the experiences into Torch tensors\n",
    "        all_next_actions = torch.cat(list_all_next_actions, dim=1).to(device)\n",
    "        all_next_states = torch.cat(next_states_list, dim=1).to(device)\n",
    "        all_states = torch.cat(states_list, dim=1).to(device)\n",
    "        all_actions = torch.cat(actions_list, dim=1).to(device)\n",
    "        \n",
    "        # ---------------------------- update critic ---------------------------- #\n",
    "        \n",
    "        # Get predicted next-state actions and Q values from target models\n",
    "        Q_targets_next = self.critic_target(all_next_states, all_next_actions)\n",
    "        \n",
    "        # Compute Q targets for current states (y_i)\n",
    "        Q_targets = rewards + (gamma * Q_targets_next * (1 - dones))\n",
    "        \n",
    "        # Compute critic loss\n",
    "        Q_expected = self.critic_local(all_states, all_actions)\n",
    "        critic_loss = F.mse_loss(Q_expected, Q_targets)\n",
    "        \n",
    "        # Minimize the loss\n",
    "        self.critic_optimizer.zero_grad()\n",
    "        critic_loss.backward()\n",
    "        #torch.nn.utils.clip_grad_norm_(self.critic_local.parameters(), 1)\n",
    "        self.critic_optimizer.step()\n",
    "\n",
    "        # ---------------------------- update actor ---------------------------- #\n",
    "        # Compute actor loss\n",
    "        \n",
    "        actions_pred = []\n",
    "        for states in states_list:\n",
    "            actions_pred.append(self.actor_local(states))\n",
    "        \n",
    "        actions_pred = torch.cat(actions_pred, dim=1).to(device)\n",
    "        actor_loss = -self.critic_local(all_states, actions_pred).mean()\n",
    "        \n",
    "        # Minimize the loss\n",
    "        self.actor_optimizer.zero_grad()\n",
    "        actor_loss.backward()\n",
    "        \n",
    "        #torch.nn.utils.clip_grad_norm_(self.actor_local.parameters(), 1)\n",
    "        self.actor_optimizer.step()\n",
    "\n",
    "        # ----------------------- update target networks ----------------------- #\n",
    "        self.soft_update(self.critic_local, self.critic_target, self.tau)\n",
    "        self.soft_update(self.actor_local, self.actor_target, self.tau)                     \n",
    "\n",
    "    def soft_update(self, local_model, target_model, tau):\n",
    "        for target_param, local_param in zip(target_model.parameters(), local_model.parameters()):\n",
    "            target_param.data.copy_(tau*local_param.data + (1.0-tau)*target_param.data)\n",
    "           "
   ]
  },
  {
   "cell_type": "markdown",
   "metadata": {},
   "source": [
    "### MADDPG agent"
   ]
  },
  {
   "cell_type": "code",
   "execution_count": 13,
   "metadata": {},
   "outputs": [],
   "source": [
    "class MADDPG:\n",
    "    '''\n",
    "    MultiAgent DDPG implementation\n",
    "    '''\n",
    "\n",
    "    def __init__(self, \n",
    "                 number_of_agents, \n",
    "                 state_size, \n",
    "                 action_size, \n",
    "                 rand_seed,\n",
    "                 BUFFER_SIZE = int(1e5),\n",
    "                 BATCH_SIZE  = 250):\n",
    "\n",
    "        self.number_of_agents = number_of_agents\n",
    "        self.batch_size = BATCH_SIZE \n",
    "        self.buffer_size = BUFFER_SIZE\n",
    "       \n",
    "        self.memory = ReplayBuffer(self.buffer_size, self.batch_size, rand_seed, self.number_of_agents)\n",
    "     \n",
    "        self.action_size = action_size\n",
    "        self.state_size = state_size \n",
    "        print('r seed is: ', rand_seed)\n",
    "        self.agents = [DDPGAgent(i, self.state_size,\n",
    "                               self.action_size,\n",
    "                               rand_seed,\n",
    "                               self)\n",
    "                         for i in range(self.number_of_agents)]\n",
    "\n",
    "    def step(self, states, actions, rewards, next_states, dones):\n",
    "        \"\"\" Add into memory the experience. It will include all agents information \"\"\"\n",
    "\n",
    "        self.memory.add(states, actions, rewards, next_states, dones)\n",
    "\n",
    "        # For each agent perfoms a step \n",
    "        for agent in self.agents:\n",
    "            agent.step()\n",
    "\n",
    "    def act(self, states, add_noise=True):\n",
    "        \"\"\" Returns the action to take \"\"\"\n",
    "        na_rtn = np.zeros([self.number_of_agents, self.action_size])\n",
    "        for agent in self.agents:\n",
    "            idx = agent.agent_id\n",
    "            na_rtn[idx, :] = agent.act(states[idx], add_noise)\n",
    "        return na_rtn\n",
    "\n",
    "    def save_weights(self):\n",
    "        \"\"\" Save agents weights\"\"\"\n",
    "        for agent in self.agents:\n",
    "            torch.save(agent.actor_local.state_dict(), 'agent{}_checkpoint_actor.pth'.format(agent.agent_id+1))\n",
    "            torch.save(agent.critic_local.state_dict(), 'agent{}_checkpoint_critic.pth'.format(agent.agent_id+1))\n",
    "    \n",
    "    def reset(self):\n",
    "        \"\"\" Just reset all agents \"\"\"\n",
    "        for agent in self.agents:\n",
    "            agent.reset()\n",
    "\n",
    "    def __len__(self):\n",
    "        return self.number_of_agents\n",
    "\n",
    "    def __getitem__(self, key):\n",
    "        return self.agents[key]"
   ]
  },
  {
   "cell_type": "markdown",
   "metadata": {},
   "source": [
    "### Environment and agent"
   ]
  },
  {
   "cell_type": "code",
   "execution_count": 9,
   "metadata": {},
   "outputs": [
    {
     "name": "stderr",
     "output_type": "stream",
     "text": [
      "INFO:unityagents:\n",
      "'Academy' started successfully!\n",
      "Unity Academy name: Academy\n",
      "        Number of Brains: 1\n",
      "        Number of External Brains : 1\n",
      "        Lesson number : 0\n",
      "        Reset Parameters :\n",
      "\t\t\n",
      "Unity brain name: TennisBrain\n",
      "        Number of Visual Observations (per agent): 0\n",
      "        Vector Observation space type: continuous\n",
      "        Vector Observation space size (per agent): 8\n",
      "        Number of stacked Vector Observation: 3\n",
      "        Vector Action space type: continuous\n",
      "        Vector Action space size (per agent): 2\n",
      "        Vector Action descriptions: , \n"
     ]
    },
    {
     "name": "stdout",
     "output_type": "stream",
     "text": [
      "Number of agents: 2\n",
      "Size of each action: 2\n",
      "Size of each state: 24\n"
     ]
    }
   ],
   "source": [
    "env = UnityEnvironment(file_name=\"Tennis_Windows_x86_64/Tennis\")\n",
    "\n",
    "# get the default brain\n",
    "brain_name = env.brain_names[0]\n",
    "brain = env.brains[brain_name]\n",
    "\n",
    "env_info = env.reset(train_mode=True)[brain_name]\n",
    "\n",
    "# number of agents \n",
    "n_agents = len(env_info.agents)\n",
    "print('Number of agents:', n_agents)\n",
    "\n",
    "# size of each action\n",
    "action_size = brain.vector_action_space_size\n",
    "print('Size of each action:', action_size)\n",
    "\n",
    "# examine the state space \n",
    "states = env_info.vector_observations\n",
    "state_size = states.shape[1]\n",
    "print('Size of each state:', state_size)"
   ]
  },
  {
   "cell_type": "markdown",
   "metadata": {},
   "source": [
    "### Training"
   ]
  },
  {
   "cell_type": "code",
   "execution_count": 19,
   "metadata": {
    "scrolled": true
   },
   "outputs": [
    {
     "name": "stdout",
     "output_type": "stream",
     "text": [
      "24\n",
      "action_size:  2\n",
      "r seed is:  0\n"
     ]
    },
    {
     "name": "stderr",
     "output_type": "stream",
     "text": [
      "C:\\Users\\nbbor\\Anaconda3\\envs\\tf17\\lib\\site-packages\\torch\\nn\\functional.py:1320: UserWarning: nn.functional.tanh is deprecated. Use torch.tanh instead.\n",
      "  warnings.warn(\"nn.functional.tanh is deprecated. Use torch.tanh instead.\")\n"
     ]
    },
    {
     "name": "stdout",
     "output_type": "stream",
     "text": [
      "Episode 1\tAvg score: 0.00\n",
      "Episode 101\tAvg score: 0.00\n",
      "Episode 201\tAvg score: 0.00\n",
      "Episode 301\tAvg score: 0.00\n",
      "Episode 401\tAvg score: 0.00\n",
      "Episode 501\tAvg score: 0.00\n",
      "Episode 601\tAvg score: 0.00\n",
      "Episode 701\tAvg score: 0.00\n",
      "Episode 801\tAvg score: 0.01\n",
      "Episode 901\tAvg score: 0.00\n",
      "Episode 1001\tAvg score: 0.00\n",
      "Episode 1101\tAvg score: 0.00\n",
      "Episode 1201\tAvg score: 0.00\n",
      "Episode 1301\tAvg score: 0.00\n",
      "Episode 1401\tAvg score: 0.00\n",
      "Episode 1501\tAvg score: 0.02\n",
      "Episode 1601\tAvg score: 0.01\n",
      "Episode 1701\tAvg score: 0.02\n",
      "Episode 1801\tAvg score: 0.01\n",
      "Episode 1901\tAvg score: 0.01\n",
      "Episode 2001\tAvg score: 0.00\n",
      "Episode 2101\tAvg score: 0.00\n",
      "Episode 2201\tAvg score: 0.02\n",
      "Episode 2301\tAvg score: 0.03\n",
      "Episode 2401\tAvg score: 0.03\n",
      "Episode 2501\tAvg score: 0.05\n",
      "Episode 2601\tAvg score: 0.10\n",
      "Episode 2701\tAvg score: 0.10\n",
      "Episode 2801\tAvg score: 0.11\n",
      "Episode 2901\tAvg score: 0.10\n",
      "Episode 3001\tAvg score: 0.12\n",
      "Episode 3101\tAvg score: 0.15\n",
      "Episode 3201\tAvg score: 0.14\n",
      "Episode 3301\tAvg score: 0.15\n",
      "Episode 3401\tAvg score: 0.15\n",
      "Episode 3501\tAvg score: 0.18\n",
      "Episode 3601\tAvg score: 0.15\n",
      "Episode 3701\tAvg score: 0.14\n",
      "Episode 3801\tAvg score: 0.19\n",
      "Episode 3901\tAvg score: 0.13\n",
      "Episode 4001\tAvg score: 0.18\n",
      "Episode 4101\tAvg score: 0.30\n",
      "Episode 4201\tAvg score: 0.28\n",
      "Episode 4301\tAvg score: 0.29\n",
      "Episode 4401\tAvg score: 0.21\n",
      "Episode 4501\tAvg score: 0.19\n",
      "Episode 4601\tAvg score: 0.09\n",
      "Episode 4701\tAvg score: 0.09\n",
      "Episode 4801\tAvg score: 0.07\n",
      "Episode 4901\tAvg score: 0.07\n",
      "Episode 5001\tAvg score: 0.07\n",
      "Episode 5101\tAvg score: 0.10\n",
      "Episode 5201\tAvg score: 0.09\n",
      "Episode 5301\tAvg score: 0.10\n",
      "Episode 5401\tAvg score: 0.09\n",
      "Episode 5501\tAvg score: 0.08\n",
      "Episode 5601\tAvg score: 0.09\n",
      "Episode 5701\tAvg score: 0.09\n",
      "Episode 5801\tAvg score: 0.10\n",
      "Episode 5901\tAvg score: 0.08\n",
      "Episode 6001\tAvg score: 0.10\n",
      "Episode 6101\tAvg score: 0.11\n",
      "Episode 6201\tAvg score: 0.17\n",
      "Episode 6301\tAvg score: 0.14\n",
      "Episode 6401\tAvg score: 0.20\n",
      "Episode 6501\tAvg score: 0.17\n",
      "Episode 6601\tAvg score: 0.19\n",
      "Episode 6701\tAvg score: 0.15\n",
      "Episode 6801\tAvg score: 0.12\n",
      "Episode 6901\tAvg score: 0.16\n",
      "Episode 7001\tAvg score: 0.10\n",
      "Episode 7101\tAvg score: 0.08\n",
      "Episode 7201\tAvg score: 0.10\n",
      "Episode 7301\tAvg score: 0.07\n",
      "Episode 7401\tAvg score: 0.13\n",
      "Episode 7501\tAvg score: 0.29\n",
      "Episode 7601\tAvg score: 0.32\n",
      "Episode 7701\tAvg score: 0.41\n",
      "Solved! In episode: 7750 \tAvg score: 0.50\n"
     ]
    },
    {
     "data": {
      "image/png": "[encoded data removed]",
      "text/plain": [
       "<Figure size 432x288 with 1 Axes>"
      ]
     },
     "metadata": {
      "needs_background": "light"
     },
     "output_type": "display_data"
    },
    {
     "data": {
      "image/png": "[encoded data removed]",
      "text/plain": [
       "<Figure size 432x288 with 1 Axes>"
      ]
     },
     "metadata": {
      "needs_background": "light"
     },
     "output_type": "display_data"
    }
   ],
   "source": [
    "scores_deque = deque(maxlen=100)\n",
    "scores = []\n",
    "scores_avg = []\n",
    "episodes = 100000\n",
    "\n",
    "PRINT_EVERY = 100\n",
    "\n",
    "device = 'cpu'\n",
    "\n",
    "print(state_size)\n",
    "print('action_size: ', action_size)\n",
    "maddpgagent = MADDPG(2,state_size, action_size, 0) \n",
    "\n",
    "for e in range(episodes):                                   \n",
    "    env_info = env.reset(train_mode=True)[brain_name]    \n",
    "    states = env_info.vector_observations                  \n",
    "    score = np.zeros((n_agents,))\n",
    "    \n",
    "    while True:\n",
    "        actions = maddpgagent.act(states)\n",
    "        env_info = env.step(actions)[brain_name]           \n",
    "        \n",
    "        next_states = env_info.vector_observations\n",
    "        rewards = env_info.rewards \n",
    "        re = np.asarray(rewards)\n",
    "\n",
    "        \n",
    "        dones = env_info.local_done  \n",
    "        \n",
    "        score += np.array(re)\n",
    "       \n",
    "        maddpgagent.step(states, actions, rewards, next_states, dones)\n",
    "        \n",
    "        states = next_states\n",
    "        \n",
    "        if any(dones):                                 \n",
    "            break\n",
    "        \n",
    " \n",
    "    score_max = np.max(score)\n",
    "    scores.append(score_max)\n",
    "    scores_deque.append(score_max)\n",
    "    score_avg = np.mean(scores_deque)\n",
    "    scores_avg.append(score_avg)\n",
    "    \n",
    "    if score_avg >= 0.5:\n",
    "        maddpgagent.save_weights()\n",
    "        print(\"\\rSolved! In episode: {} \\tAvg score: {:.2f}\".format(e+1, score_avg))\n",
    "        break\n",
    "    if e % PRINT_EVERY == 0:\n",
    "        print('\\rEpisode {}\\tAvg score: {:.2f}'.format(e+1, score_avg))\n",
    "    \n",
    "fig = plt.figure()\n",
    "ax = fig.add_subplot(111)\n",
    "plt.plot(np.arange(1, len(scores)+1), scores)\n",
    "plt.ylabel('Score')\n",
    "plt.xlabel('Episode #')\n",
    "plt.show()\n",
    "\n",
    "fig = plt.figure()\n",
    "ax = fig.add_subplot(111)\n",
    "plt.plot(np.arange(1, len(scores_avg)+1), scores_avg)\n",
    "plt.ylabel('Average Score')\n",
    "plt.xlabel('Episode #')\n",
    "plt.show()"
   ]
  },
  {
   "cell_type": "code",
   "execution_count": 20,
   "metadata": {},
   "outputs": [],
   "source": [
    "def plot_smooth(reward, smoothing_window = 10):\n",
    "    scores = pd.DataFrame({'Average':reward})\n",
    "    fig = plt.figure(figsize=(10,5))\n",
    "    plt.grid(True)\n",
    "    plt.style.use('seaborn-bright')\n",
    "    rewards_smoothed = scores.rolling(smoothing_window, min_periods=smoothing_window).mean()\n",
    "    plt.plot(rewards_smoothed)\n",
    "    plt.xlabel(\"Episode\")\n",
    "    plt.ylabel(\"Episode Reward (Smoothed)\")\n",
    "    plt.title(\"Episode Reward over Time (Smoothed over window size {})\".format(smoothing_window))\n",
    "    plt.legend(['Average Reward'])\n",
    "    plot_name = 'Tenis.png'\n",
    "    plt.savefig(plot_name)"
   ]
  },
  {
   "cell_type": "code",
   "execution_count": 22,
   "metadata": {},
   "outputs": [
    {
     "data": {
      "image/png": "[encoded data removed]",
      "text/plain": [
       "<Figure size 720x360 with 1 Axes>"
      ]
     },
     "metadata": {
      "needs_background": "light"
     },
     "output_type": "display_data"
    }
   ],
   "source": [
    "plot_smooth(scores,100)"
   ]
  },
  {
   "cell_type": "markdown",
   "metadata": {},
   "source": [
    "### Save trained model and scores"
   ]
  },
  {
   "cell_type": "code",
   "execution_count": 23,
   "metadata": {},
   "outputs": [],
   "source": [
    "def save_scores(scores, file_name):\n",
    "    with open(file_name, 'w') as f:\n",
    "        for score in scores:\n",
    "            f.write(\"%s\\n\"%(score))\n",
    "        f.close()\n",
    "    print('Test scores saved in', file_name)"
   ]
  },
  {
   "cell_type": "code",
   "execution_count": 24,
   "metadata": {},
   "outputs": [
    {
     "name": "stdout",
     "output_type": "stream",
     "text": [
      "Test scores saved in scores.csv\n"
     ]
    }
   ],
   "source": [
    "save_scores(scores,'scores.csv')"
   ]
  },
  {
   "cell_type": "code",
   "execution_count": 25,
   "metadata": {},
   "outputs": [],
   "source": [
    "maddpgagent.save_weights()\n"
   ]
  },
  {
   "cell_type": "code",
   "execution_count": 26,
   "metadata": {},
   "outputs": [],
   "source": [
    "env_info = env.reset(train_mode=True)[brain_name]     # reset the environment    \n",
    "states = env_info.vector_observations"
   ]
  },
  {
   "cell_type": "code",
   "execution_count": 27,
   "metadata": {},
   "outputs": [
    {
     "name": "stderr",
     "output_type": "stream",
     "text": [
      "C:\\Users\\nbbor\\Anaconda3\\envs\\tf17\\lib\\site-packages\\torch\\nn\\functional.py:1320: UserWarning: nn.functional.tanh is deprecated. Use torch.tanh instead.\n",
      "  warnings.warn(\"nn.functional.tanh is deprecated. Use torch.tanh instead.\")\n"
     ]
    },
    {
     "data": {
      "text/plain": [
       "array([[-0.99936199,  1.        ],\n",
       "       [-0.99999917, -0.99999982]])"
      ]
     },
     "execution_count": 27,
     "metadata": {},
     "output_type": "execute_result"
    }
   ],
   "source": [
    "maddpgagent.act(states, False)"
   ]
  },
  {
   "cell_type": "markdown",
   "metadata": {},
   "source": [
    "### Finally: playing with trained agents!"
   ]
  },
  {
   "cell_type": "code",
   "execution_count": 30,
   "metadata": {},
   "outputs": [
    {
     "name": "stdout",
     "output_type": "stream",
     "text": [
      "Score (max over agents) from episode 1: 1.0000000149011612\n",
      "Score (max over agents) from episode 2: 0.7900000121444464\n",
      "Score (max over agents) from episode 3: 0.30000000447034836\n",
      "Score (max over agents) from episode 4: 0.20000000298023224\n",
      "Score (max over agents) from episode 5: 0.7000000104308128\n"
     ]
    }
   ],
   "source": [
    "#trained agents' play\n",
    "for i in range(1, 6):                                      # play game for 5 episodes\n",
    "    env_info = env.reset(train_mode=False)[brain_name]     # reset the environment    \n",
    "    states = env_info.vector_observations                  # get the current state (for each agent)\n",
    "    scores = np.zeros(n_agents)                          # initialize the score (for each agent)\n",
    "    while True:\n",
    "        #actions = np.random.randn(num_agents, action_size) # select an action (for each agent)\n",
    "        #actions = np.clip(actions, -1, 1)                  # all actions between -1 and 1\n",
    "        actions = maddpgagent.act(states, False)\n",
    "        env_info = env.step(actions)[brain_name]           # send all actions to tne environment\n",
    "        next_states = env_info.vector_observations         # get next state (for each agent)\n",
    "        rewards = env_info.rewards                         # get reward (for each agent)\n",
    "        dones = env_info.local_done                        # see if episode finished\n",
    "        scores += env_info.rewards                         # update the score (for each agent)\n",
    "        states = next_states                               # roll over states to next time step\n",
    "        if np.any(dones):                                  # exit loop if episode finished\n",
    "            break\n",
    "    print('Score (max over agents) from episode {}: {}'.format(i, np.max(scores)))"
   ]
  },
  {
   "cell_type": "markdown",
   "metadata": {},
   "source": [
    "#### Conclussion:\n",
    "\n",
    "The implementation of MADDPG follows an intuitive extension to the classic DDPG algorithm, but making the critics aware of other agents' states and actions to mantain the markovian property of the environment.\n",
    "\n",
    "As possible improvements for this model, I'd like to fine-tune the hyperparameters in order to achieve a better learning curve, in particular to avoid the learning downgrade at around 4000 training steps."
   ]
  }
 ],
 "metadata": {
  "kernelspec": {
   "display_name": "Python 3",
   "language": "python",
   "name": "python3"
  },
  "language_info": {
   "codemirror_mode": {
    "name": "ipython",
    "version": 3
   },
   "file_extension": ".py",
   "mimetype": "text/x-python",
   "name": "python",
   "nbconvert_exporter": "python",
   "pygments_lexer": "ipython3",
   "version": "3.6.8"
  }
 },
 "nbformat": 4,
 "nbformat_minor": 2
}
